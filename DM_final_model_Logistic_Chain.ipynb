{
 "cells": [
  {
   "cell_type": "code",
   "execution_count": 1,
   "id": "bd517100",
   "metadata": {
    "id": "bd517100"
   },
   "outputs": [],
   "source": [
    "import numpy as np\n",
    "import pandas as pd\n",
    "from collections import Counter\n",
    "import matplotlib.pyplot as plt\n",
    "import os\n",
    "import ast\n",
    "import nltk\n",
    "import pickle\n",
    "import math"
   ]
  },
  {
   "cell_type": "code",
   "execution_count": 2,
   "id": "8bf791c1",
   "metadata": {
    "id": "8bf791c1"
   },
   "outputs": [],
   "source": [
    "from sklearn import tree\n",
    "from sklearn.preprocessing import LabelEncoder\n",
    "from sklearn.feature_extraction.text import TfidfVectorizer, CountVectorizer\n",
    "from sklearn.metrics import accuracy_score, precision_score, recall_score, precision_recall_fscore_support\n",
    "from sklearn.model_selection import train_test_split\n",
    "from sklearn.feature_selection import SelectPercentile, chi2, SelectKBest, f_classif, mutual_info_classif"
   ]
  },
  {
   "cell_type": "code",
   "execution_count": 3,
   "id": "-h4YWZH4CNW2",
   "metadata": {
    "colab": {
     "base_uri": "https://localhost:8080/"
    },
    "id": "-h4YWZH4CNW2",
    "outputId": "c334b4cd-a46e-4f76-fb3e-924fb7e4c241"
   },
   "outputs": [],
   "source": [
    "# from google.colab import drive\n",
    "# drive.mount('/content/drive')"
   ]
  },
  {
   "cell_type": "code",
   "execution_count": 4,
   "id": "41d81b13",
   "metadata": {
    "id": "41d81b13"
   },
   "outputs": [],
   "source": [
    "TEST_SIZE = 0.2\n",
    "RANDOM_STATE = 42\n",
    "SAMPLE_SIZE = 3000\n",
    "\n",
    "TEXT_COL_NAME = 'text_split'\n",
    "TEXT_TOKEN_COL_NAME = 'text_token_stop'\n",
    "CLASS_COL_NAME = 'reduced_tags'\n",
    "\n",
    "# DF_FILE_PATH = './data/no_stop.pkl'\n",
    "DF_FILE_PATH = './data/no_stop_1000_30.pkl'"
   ]
  },
  {
   "cell_type": "code",
   "execution_count": 5,
   "id": "b6a91dae",
   "metadata": {
    "id": "b6a91dae"
   },
   "outputs": [],
   "source": [
    "# DT_SAVE_FILE_NAME = '/content/drive/MyDrive/資料探勘/project/Model/DT_1000.bin'\n",
    "# DT_SELECT_SAVE_FILE_NAME = '/content/drive/MyDrive/資料探勘/project/Model/DT_selection.bin'\n",
    "# RF_SAVE_FILE_NAME = '/content/drive/MyDrive/資料探勘/project/Model/RF_1000.bin'\n",
    "# NN_SAVE_FILE_NAME = '/content/drive/MyDrive/資料探勘/project/Model/NN_model'"
   ]
  },
  {
   "cell_type": "markdown",
   "id": "dca5a3b0",
   "metadata": {
    "id": "dca5a3b0"
   },
   "source": [
    "# Load Data"
   ]
  },
  {
   "cell_type": "code",
   "execution_count": 6,
   "id": "df646ad9",
   "metadata": {
    "colab": {
     "base_uri": "https://localhost:8080/"
    },
    "id": "df646ad9",
    "outputId": "93a048ca-bde9-48e5-97a1-d39ac0f81cda",
    "scrolled": true
   },
   "outputs": [
    {
     "name": "stdout",
     "output_type": "stream",
     "text": [
      "CPU times: user 544 ms, sys: 131 ms, total: 675 ms\n",
      "Wall time: 696 ms\n"
     ]
    },
    {
     "data": {
      "text/html": [
       "<div>\n",
       "<style scoped>\n",
       "    .dataframe tbody tr th:only-of-type {\n",
       "        vertical-align: middle;\n",
       "    }\n",
       "\n",
       "    .dataframe tbody tr th {\n",
       "        vertical-align: top;\n",
       "    }\n",
       "\n",
       "    .dataframe thead th {\n",
       "        text-align: right;\n",
       "    }\n",
       "</style>\n",
       "<table border=\"1\" class=\"dataframe\">\n",
       "  <thead>\n",
       "    <tr style=\"text-align: right;\">\n",
       "      <th></th>\n",
       "      <th>title</th>\n",
       "      <th>text</th>\n",
       "      <th>url</th>\n",
       "      <th>authors</th>\n",
       "      <th>timestamp</th>\n",
       "      <th>tags</th>\n",
       "      <th>text_length</th>\n",
       "      <th>reduced_tags</th>\n",
       "      <th>text_token</th>\n",
       "      <th>text_token_stop</th>\n",
       "      <th>text_after</th>\n",
       "    </tr>\n",
       "  </thead>\n",
       "  <tbody>\n",
       "    <tr>\n",
       "      <th>0</th>\n",
       "      <td>Surviving a Rod Through the Head</td>\n",
       "      <td>You’ve heard of him, haven’t you? Phineas Gage...</td>\n",
       "      <td>https://medium.com/live-your-life-on-purpose/s...</td>\n",
       "      <td>['Rishav Sinha']</td>\n",
       "      <td>2020-02-26 00:01:01.576000+00:00</td>\n",
       "      <td>['Brain', 'Health', 'Development', 'Psychology...</td>\n",
       "      <td>2326</td>\n",
       "      <td>[Health]</td>\n",
       "      <td>[You’ve, heard, of, him,, haven’t, you?, Phine...</td>\n",
       "      <td>[You’ve, heard, him,, haven’t, you?, Phineas, ...</td>\n",
       "      <td>234</td>\n",
       "    </tr>\n",
       "    <tr>\n",
       "      <th>1</th>\n",
       "      <td>Quora Overview</td>\n",
       "      <td>Making the most of Quora for content marketing...</td>\n",
       "      <td>https://medium.com/digital-marketing-lab/quora...</td>\n",
       "      <td>['Casey Botticello']</td>\n",
       "      <td>2020-09-04 18:30:41.246000+00:00</td>\n",
       "      <td>['Productivity', 'Entrepreneurship', 'Writing'...</td>\n",
       "      <td>1887</td>\n",
       "      <td>[Entrepreneurship, Writing, Startup]</td>\n",
       "      <td>[Making, the, most, of, Quora, for, content, m...</td>\n",
       "      <td>[Making, Quora, content, marketing, There, sev...</td>\n",
       "      <td>193</td>\n",
       "    </tr>\n",
       "    <tr>\n",
       "      <th>2</th>\n",
       "      <td>The Simple Formula For Becoming A Better Writer</td>\n",
       "      <td>You Need To Show Up Every Single Day. “The mos...</td>\n",
       "      <td>https://medium.com/swlh/the-simple-formula-for...</td>\n",
       "      <td>['Matt Lillywhite']</td>\n",
       "      <td>2020-06-26 13:31:34.246000+00:00</td>\n",
       "      <td>['Creativity', 'Entrepreneurship', 'Blogging',...</td>\n",
       "      <td>1708</td>\n",
       "      <td>[Entrepreneurship, Writing]</td>\n",
       "      <td>[You, Need, To, Show, Up, Every, Single, Day.,...</td>\n",
       "      <td>[You, Need, To, Show, Up, Every, Single, Day.,...</td>\n",
       "      <td>195</td>\n",
       "    </tr>\n",
       "    <tr>\n",
       "      <th>3</th>\n",
       "      <td>The Power of Sleep in Learning: Mind-Blowing S...</td>\n",
       "      <td>The Power of Sleep in Learning: Mind-Blowing S...</td>\n",
       "      <td>https://medium.com/superintelligence/the-power...</td>\n",
       "      <td>['John Von Neumann Ii']</td>\n",
       "      <td>2020-02-12 09:19:16.941000+00:00</td>\n",
       "      <td>['Self Improvement', 'Productivity', 'Science'...</td>\n",
       "      <td>2201</td>\n",
       "      <td>[Self Improvement, Health, Entrepreneurship]</td>\n",
       "      <td>[The, Power, of, Sleep, in, Learning:, Mind-Bl...</td>\n",
       "      <td>[The, Power, Sleep, Learning:, Mind-Blowing, S...</td>\n",
       "      <td>231</td>\n",
       "    </tr>\n",
       "    <tr>\n",
       "      <th>4</th>\n",
       "      <td>All the Love you do not see</td>\n",
       "      <td>All the Love you do not see On writing with he...</td>\n",
       "      <td>https://asingularstory.medium.com/all-the-love...</td>\n",
       "      <td>['A Singular Story']</td>\n",
       "      <td>2020-06-13 12:29:45.505000+00:00</td>\n",
       "      <td>['Social Media', 'Future', 'Society', 'Writing...</td>\n",
       "      <td>1396</td>\n",
       "      <td>[Writing, Mental Health]</td>\n",
       "      <td>[All, the, Love, you, do, not, see, On, writin...</td>\n",
       "      <td>[All, Love, see, On, writing, heart, hope, Pho...</td>\n",
       "      <td>150</td>\n",
       "    </tr>\n",
       "  </tbody>\n",
       "</table>\n",
       "</div>"
      ],
      "text/plain": [
       "                                               title  \\\n",
       "0                   Surviving a Rod Through the Head   \n",
       "1                                     Quora Overview   \n",
       "2    The Simple Formula For Becoming A Better Writer   \n",
       "3  The Power of Sleep in Learning: Mind-Blowing S...   \n",
       "4                        All the Love you do not see   \n",
       "\n",
       "                                                text  \\\n",
       "0  You’ve heard of him, haven’t you? Phineas Gage...   \n",
       "1  Making the most of Quora for content marketing...   \n",
       "2  You Need To Show Up Every Single Day. “The mos...   \n",
       "3  The Power of Sleep in Learning: Mind-Blowing S...   \n",
       "4  All the Love you do not see On writing with he...   \n",
       "\n",
       "                                                 url                  authors  \\\n",
       "0  https://medium.com/live-your-life-on-purpose/s...         ['Rishav Sinha']   \n",
       "1  https://medium.com/digital-marketing-lab/quora...     ['Casey Botticello']   \n",
       "2  https://medium.com/swlh/the-simple-formula-for...      ['Matt Lillywhite']   \n",
       "3  https://medium.com/superintelligence/the-power...  ['John Von Neumann Ii']   \n",
       "4  https://asingularstory.medium.com/all-the-love...     ['A Singular Story']   \n",
       "\n",
       "                          timestamp  \\\n",
       "0  2020-02-26 00:01:01.576000+00:00   \n",
       "1  2020-09-04 18:30:41.246000+00:00   \n",
       "2  2020-06-26 13:31:34.246000+00:00   \n",
       "3  2020-02-12 09:19:16.941000+00:00   \n",
       "4  2020-06-13 12:29:45.505000+00:00   \n",
       "\n",
       "                                                tags  text_length  \\\n",
       "0  ['Brain', 'Health', 'Development', 'Psychology...         2326   \n",
       "1  ['Productivity', 'Entrepreneurship', 'Writing'...         1887   \n",
       "2  ['Creativity', 'Entrepreneurship', 'Blogging',...         1708   \n",
       "3  ['Self Improvement', 'Productivity', 'Science'...         2201   \n",
       "4  ['Social Media', 'Future', 'Society', 'Writing...         1396   \n",
       "\n",
       "                                   reduced_tags  \\\n",
       "0                                      [Health]   \n",
       "1          [Entrepreneurship, Writing, Startup]   \n",
       "2                   [Entrepreneurship, Writing]   \n",
       "3  [Self Improvement, Health, Entrepreneurship]   \n",
       "4                      [Writing, Mental Health]   \n",
       "\n",
       "                                          text_token  \\\n",
       "0  [You’ve, heard, of, him,, haven’t, you?, Phine...   \n",
       "1  [Making, the, most, of, Quora, for, content, m...   \n",
       "2  [You, Need, To, Show, Up, Every, Single, Day.,...   \n",
       "3  [The, Power, of, Sleep, in, Learning:, Mind-Bl...   \n",
       "4  [All, the, Love, you, do, not, see, On, writin...   \n",
       "\n",
       "                                     text_token_stop  text_after  \n",
       "0  [You’ve, heard, him,, haven’t, you?, Phineas, ...         234  \n",
       "1  [Making, Quora, content, marketing, There, sev...         193  \n",
       "2  [You, Need, To, Show, Up, Every, Single, Day.,...         195  \n",
       "3  [The, Power, Sleep, Learning:, Mind-Blowing, S...         231  \n",
       "4  [All, Love, see, On, writing, heart, hope, Pho...         150  "
      ]
     },
     "execution_count": 6,
     "metadata": {},
     "output_type": "execute_result"
    }
   ],
   "source": [
    "%%time\n",
    "# df = pd.read_csv('./data/medium_articles.csv')\n",
    "df = pd.read_pickle(DF_FILE_PATH)\n",
    "# print(final_df.shape)\n",
    "\n",
    "df.head()"
   ]
  },
  {
   "cell_type": "code",
   "execution_count": 7,
   "id": "RmtPmp8df9iI",
   "metadata": {
    "colab": {
     "base_uri": "https://localhost:8080/",
     "height": 721
    },
    "id": "RmtPmp8df9iI",
    "outputId": "d7fcec36-8eb9-4b89-fdcd-b8a66b6bb1f3"
   },
   "outputs": [
    {
     "data": {
      "text/html": [
       "<div>\n",
       "<style scoped>\n",
       "    .dataframe tbody tr th:only-of-type {\n",
       "        vertical-align: middle;\n",
       "    }\n",
       "\n",
       "    .dataframe tbody tr th {\n",
       "        vertical-align: top;\n",
       "    }\n",
       "\n",
       "    .dataframe thead th {\n",
       "        text-align: right;\n",
       "    }\n",
       "</style>\n",
       "<table border=\"1\" class=\"dataframe\">\n",
       "  <thead>\n",
       "    <tr style=\"text-align: right;\">\n",
       "      <th></th>\n",
       "      <th>title</th>\n",
       "      <th>text</th>\n",
       "      <th>url</th>\n",
       "      <th>authors</th>\n",
       "      <th>timestamp</th>\n",
       "      <th>tags</th>\n",
       "      <th>text_length</th>\n",
       "      <th>reduced_tags</th>\n",
       "      <th>text_token</th>\n",
       "      <th>text_token_stop</th>\n",
       "      <th>text_after</th>\n",
       "    </tr>\n",
       "  </thead>\n",
       "  <tbody>\n",
       "    <tr>\n",
       "      <th>0</th>\n",
       "      <td>Surviving a Rod Through the Head</td>\n",
       "      <td>You’ve heard of him, haven’t you? Phineas Gage...</td>\n",
       "      <td>https://medium.com/live-your-life-on-purpose/s...</td>\n",
       "      <td>['Rishav Sinha']</td>\n",
       "      <td>2020-02-26 00:01:01.576000+00:00</td>\n",
       "      <td>['Brain', 'Health', 'Development', 'Psychology...</td>\n",
       "      <td>2326</td>\n",
       "      <td>[Health]</td>\n",
       "      <td>[You’ve, heard, of, him,, haven’t, you?, Phine...</td>\n",
       "      <td>[You’ve, heard, him,, haven’t, you?, Phineas, ...</td>\n",
       "      <td>234</td>\n",
       "    </tr>\n",
       "    <tr>\n",
       "      <th>1</th>\n",
       "      <td>Quora Overview</td>\n",
       "      <td>Making the most of Quora for content marketing...</td>\n",
       "      <td>https://medium.com/digital-marketing-lab/quora...</td>\n",
       "      <td>['Casey Botticello']</td>\n",
       "      <td>2020-09-04 18:30:41.246000+00:00</td>\n",
       "      <td>['Productivity', 'Entrepreneurship', 'Writing'...</td>\n",
       "      <td>1887</td>\n",
       "      <td>[Entrepreneurship, Writing, Startup]</td>\n",
       "      <td>[Making, the, most, of, Quora, for, content, m...</td>\n",
       "      <td>[Making, Quora, content, marketing, There, sev...</td>\n",
       "      <td>193</td>\n",
       "    </tr>\n",
       "    <tr>\n",
       "      <th>2</th>\n",
       "      <td>The Simple Formula For Becoming A Better Writer</td>\n",
       "      <td>You Need To Show Up Every Single Day. “The mos...</td>\n",
       "      <td>https://medium.com/swlh/the-simple-formula-for...</td>\n",
       "      <td>['Matt Lillywhite']</td>\n",
       "      <td>2020-06-26 13:31:34.246000+00:00</td>\n",
       "      <td>['Creativity', 'Entrepreneurship', 'Blogging',...</td>\n",
       "      <td>1708</td>\n",
       "      <td>[Entrepreneurship, Writing]</td>\n",
       "      <td>[You, Need, To, Show, Up, Every, Single, Day.,...</td>\n",
       "      <td>[You, Need, To, Show, Up, Every, Single, Day.,...</td>\n",
       "      <td>195</td>\n",
       "    </tr>\n",
       "    <tr>\n",
       "      <th>3</th>\n",
       "      <td>The Power of Sleep in Learning: Mind-Blowing S...</td>\n",
       "      <td>The Power of Sleep in Learning: Mind-Blowing S...</td>\n",
       "      <td>https://medium.com/superintelligence/the-power...</td>\n",
       "      <td>['John Von Neumann Ii']</td>\n",
       "      <td>2020-02-12 09:19:16.941000+00:00</td>\n",
       "      <td>['Self Improvement', 'Productivity', 'Science'...</td>\n",
       "      <td>2201</td>\n",
       "      <td>[Self Improvement, Health, Entrepreneurship]</td>\n",
       "      <td>[The, Power, of, Sleep, in, Learning:, Mind-Bl...</td>\n",
       "      <td>[The, Power, Sleep, Learning:, Mind-Blowing, S...</td>\n",
       "      <td>231</td>\n",
       "    </tr>\n",
       "    <tr>\n",
       "      <th>4</th>\n",
       "      <td>All the Love you do not see</td>\n",
       "      <td>All the Love you do not see On writing with he...</td>\n",
       "      <td>https://asingularstory.medium.com/all-the-love...</td>\n",
       "      <td>['A Singular Story']</td>\n",
       "      <td>2020-06-13 12:29:45.505000+00:00</td>\n",
       "      <td>['Social Media', 'Future', 'Society', 'Writing...</td>\n",
       "      <td>1396</td>\n",
       "      <td>[Writing, Mental Health]</td>\n",
       "      <td>[All, the, Love, you, do, not, see, On, writin...</td>\n",
       "      <td>[All, Love, see, On, writing, heart, hope, Pho...</td>\n",
       "      <td>150</td>\n",
       "    </tr>\n",
       "  </tbody>\n",
       "</table>\n",
       "</div>"
      ],
      "text/plain": [
       "                                               title  \\\n",
       "0                   Surviving a Rod Through the Head   \n",
       "1                                     Quora Overview   \n",
       "2    The Simple Formula For Becoming A Better Writer   \n",
       "3  The Power of Sleep in Learning: Mind-Blowing S...   \n",
       "4                        All the Love you do not see   \n",
       "\n",
       "                                                text  \\\n",
       "0  You’ve heard of him, haven’t you? Phineas Gage...   \n",
       "1  Making the most of Quora for content marketing...   \n",
       "2  You Need To Show Up Every Single Day. “The mos...   \n",
       "3  The Power of Sleep in Learning: Mind-Blowing S...   \n",
       "4  All the Love you do not see On writing with he...   \n",
       "\n",
       "                                                 url                  authors  \\\n",
       "0  https://medium.com/live-your-life-on-purpose/s...         ['Rishav Sinha']   \n",
       "1  https://medium.com/digital-marketing-lab/quora...     ['Casey Botticello']   \n",
       "2  https://medium.com/swlh/the-simple-formula-for...      ['Matt Lillywhite']   \n",
       "3  https://medium.com/superintelligence/the-power...  ['John Von Neumann Ii']   \n",
       "4  https://asingularstory.medium.com/all-the-love...     ['A Singular Story']   \n",
       "\n",
       "                          timestamp  \\\n",
       "0  2020-02-26 00:01:01.576000+00:00   \n",
       "1  2020-09-04 18:30:41.246000+00:00   \n",
       "2  2020-06-26 13:31:34.246000+00:00   \n",
       "3  2020-02-12 09:19:16.941000+00:00   \n",
       "4  2020-06-13 12:29:45.505000+00:00   \n",
       "\n",
       "                                                tags  text_length  \\\n",
       "0  ['Brain', 'Health', 'Development', 'Psychology...         2326   \n",
       "1  ['Productivity', 'Entrepreneurship', 'Writing'...         1887   \n",
       "2  ['Creativity', 'Entrepreneurship', 'Blogging',...         1708   \n",
       "3  ['Self Improvement', 'Productivity', 'Science'...         2201   \n",
       "4  ['Social Media', 'Future', 'Society', 'Writing...         1396   \n",
       "\n",
       "                                   reduced_tags  \\\n",
       "0                                      [Health]   \n",
       "1          [Entrepreneurship, Writing, Startup]   \n",
       "2                   [Entrepreneurship, Writing]   \n",
       "3  [Self Improvement, Health, Entrepreneurship]   \n",
       "4                      [Writing, Mental Health]   \n",
       "\n",
       "                                          text_token  \\\n",
       "0  [You’ve, heard, of, him,, haven’t, you?, Phine...   \n",
       "1  [Making, the, most, of, Quora, for, content, m...   \n",
       "2  [You, Need, To, Show, Up, Every, Single, Day.,...   \n",
       "3  [The, Power, of, Sleep, in, Learning:, Mind-Bl...   \n",
       "4  [All, the, Love, you, do, not, see, On, writin...   \n",
       "\n",
       "                                     text_token_stop  text_after  \n",
       "0  [You’ve, heard, him,, haven’t, you?, Phineas, ...         234  \n",
       "1  [Making, Quora, content, marketing, There, sev...         193  \n",
       "2  [You, Need, To, Show, Up, Every, Single, Day.,...         195  \n",
       "3  [The, Power, Sleep, Learning:, Mind-Blowing, S...         231  \n",
       "4  [All, Love, see, On, writing, heart, hope, Pho...         150  "
      ]
     },
     "execution_count": 7,
     "metadata": {},
     "output_type": "execute_result"
    }
   ],
   "source": [
    "df.head()"
   ]
  },
  {
   "cell_type": "code",
   "execution_count": 8,
   "id": "333b2027",
   "metadata": {
    "colab": {
     "base_uri": "https://localhost:8080/"
    },
    "id": "333b2027",
    "outputId": "9d4a4c22-112d-46d1-99db-5a0b8b9bc58c"
   },
   "outputs": [
    {
     "name": "stdout",
     "output_type": "stream",
     "text": [
      "(18118, 11)\n"
     ]
    }
   ],
   "source": [
    "print(df.shape)\n",
    "# (192368, 6)\n",
    "# (119778, 8)"
   ]
  },
  {
   "cell_type": "code",
   "execution_count": 9,
   "id": "b92426c7",
   "metadata": {
    "id": "b92426c7"
   },
   "outputs": [],
   "source": [
    "# df = df[:SAMPLE_SIZE]"
   ]
  },
  {
   "cell_type": "code",
   "execution_count": 10,
   "id": "c9c4e249",
   "metadata": {
    "colab": {
     "base_uri": "https://localhost:8080/"
    },
    "id": "c9c4e249",
    "outputId": "b06fda78-3bfc-42ce-c68b-be068a8b7598"
   },
   "outputs": [
    {
     "name": "stdout",
     "output_type": "stream",
     "text": [
      "CPU times: user 303 ms, sys: 81.6 ms, total: 385 ms\n",
      "Wall time: 385 ms\n"
     ]
    },
    {
     "data": {
      "text/plain": [
       "0        [You’ve, heard, of, him,, haven’t, you?, Phine...\n",
       "1        [Making, the, most, of, Quora, for, content, m...\n",
       "2        [You, Need, To, Show, Up, Every, Single, Day.,...\n",
       "3        [The, Power, of, Sleep, in, Learning:, Mind-Bl...\n",
       "4        [All, the, Love, you, do, not, see, On, writin...\n",
       "                               ...                        \n",
       "18113    [My, theory, on, the, future, of, customer, se...\n",
       "18114    [I, recently, downloaded, an, app, of, a, comp...\n",
       "18115    [In, case, you, don’t, know,, now, you, can, u...\n",
       "18116    [25, cent, chicken, wings., That’s, how, it, a...\n",
       "18117    [Photo, by, Comeup, 2021, on, Comeup, 2021, Th...\n",
       "Name: text_token, Length: 18118, dtype: object"
      ]
     },
     "execution_count": 10,
     "metadata": {},
     "output_type": "execute_result"
    }
   ],
   "source": [
    "%%time\n",
    "df['text'] = df['text'].apply(lambda x: x.replace('\\n\\n', ' '))\n",
    "df['text_token'] = df['text'].apply(lambda x: x.split(' '))\n",
    "df['text_token']"
   ]
  },
  {
   "cell_type": "code",
   "execution_count": 11,
   "id": "dc807a24",
   "metadata": {
    "colab": {
     "base_uri": "https://localhost:8080/",
     "height": 160
    },
    "id": "dc807a24",
    "outputId": "74548f6b-921d-458b-ddb5-3c9a14ead6d2"
   },
   "outputs": [
    {
     "data": {
      "text/plain": [
       "\"You’ve heard of him, haven’t you? Phineas Gage. The railroad worker who survived an explosion that involved an iron rod piercing through his left cheek and out of his brain and skull. Yeah. I know. You’re probably wondering “yeah, alright sweet. What about him?” Well, let’s just say that he was a really popular patient for the field of neuroscience (Cherry, par. 1). And what I found the most interesting about this tragic event was the science of his behavior afterward. For those of you who don’t know much about Phineas Gage, let me fill you in with the help of my research. Phineas Gage, 25 years old, was a railroad worker in Vermont. One day, at work, he was using an iron rod to handle explosive gun powder. As he was using the iron rod to handle the gun powder, an explosion suddenly occurred. The iron rod then went through his left cheek and brain. Fortunately, he survived and was able to talk and walk after the accident (Cherry, par. 2–3). Why did people say that Phineas Gage was a “different person” after his accident? It actually has to do with neuroscience. The iron rod went through his brain, in particular, it went through the frontal lobe of his brain. Does this mean that the frontal lobe of your brain has to do with the kind of person you are? To answer this question, we have to understand what the frontal lobe in our brain is responsible for. Our frontal lobes are responsible for many things. Some of them are higher-order thinking, personality, and decision making. This explains why people who knew Phineas Gage said that he was a totally different person after the accident. Since the iron rod went through his frontal lobe, it means that his personality and thinking, as a whole, completely changed, making him seem like he was a whole different person due to the way he started acting. This accident and the treatment of Phineas Gage actually played a big role in the field of neurology. His case helped scientists better understand the role of the frontal cortex of the brain (Cherry, par. 16–17). Bibliography Cherry, Kendra. “The Famous Case of Phineas Gage’s Astonishing Brain Injury.” Phineas Gage’s Astonishing Brain Injury, Verywell Mind, 3 Oct. 2019, www.verywellmind.com/phineas-gage-2795244#targetText=The%20rod%20penetrated%20Gage's%20left,be%20seen%20by%20a%20doctor.\""
      ]
     },
     "execution_count": 11,
     "metadata": {},
     "output_type": "execute_result"
    }
   ],
   "source": [
    "df['text'][0]"
   ]
  },
  {
   "cell_type": "code",
   "execution_count": 12,
   "id": "9ac81f8c",
   "metadata": {
    "colab": {
     "base_uri": "https://localhost:8080/"
    },
    "id": "9ac81f8c",
    "outputId": "895dbe85-5f67-4f0d-d3bc-dd451e9ed09f"
   },
   "outputs": [
    {
     "name": "stdout",
     "output_type": "stream",
     "text": [
      "30\n"
     ]
    }
   ],
   "source": [
    "tags = [tag for tag_list in df['reduced_tags'] for tag in tag_list ]\n",
    "print(len(list(set(tags))))"
   ]
  },
  {
   "cell_type": "code",
   "execution_count": null,
   "id": "bd69d54f",
   "metadata": {
    "colab": {
     "background_save": true
    },
    "id": "bd69d54f"
   },
   "outputs": [],
   "source": []
  },
  {
   "cell_type": "code",
   "execution_count": 13,
   "id": "yfA6lo8d4qXN",
   "metadata": {
    "id": "yfA6lo8d4qXN"
   },
   "outputs": [],
   "source": [
    "train, test = train_test_split(df, test_size = TEST_SIZE, random_state= RANDOM_STATE)\n",
    "    \n",
    "train_token_list = list(train[TEXT_TOKEN_COL_NAME])\n",
    "train_class_list = list(train[CLASS_COL_NAME])\n",
    "test_token_list = list(test[TEXT_TOKEN_COL_NAME])\n",
    "test_class_list = list(test[CLASS_COL_NAME])"
   ]
  },
  {
   "cell_type": "code",
   "execution_count": 14,
   "id": "VYSWKrtV8OkR",
   "metadata": {
    "id": "VYSWKrtV8OkR"
   },
   "outputs": [],
   "source": [
    "from sklearn.feature_extraction.text import TfidfVectorizer, CountVectorizer\n",
    "\n",
    "enc = TfidfVectorizer(analyzer = lambda x:x, decode_error = 'ignore')\n",
    "\n",
    "\n",
    "def class2onehot(lc, mode=\"train\"):\n",
    "    if mode==\"train\":\n",
    "        lenc = CountVectorizer(analyzer = lambda x:x, decode_error='ignore')\n",
    "        lenc.fit(lc)\n",
    "    return lenc.transform(lc).toarray()\n",
    "\n",
    "train_x_onehot = enc.fit_transform(train_token_list).toarray()\n",
    "train_y_onehot = class2onehot(train_class_list)\n",
    "test_x_onehot = enc.transform(test_token_list).toarray()\n",
    "test_y_onehot = class2onehot(test_class_list)"
   ]
  },
  {
   "cell_type": "code",
   "execution_count": 15,
   "id": "ZGkGLoBD8Oqv",
   "metadata": {
    "id": "ZGkGLoBD8Oqv"
   },
   "outputs": [],
   "source": [
    "train_y_onehot = train_y_onehot.T"
   ]
  },
  {
   "cell_type": "markdown",
   "id": "bHmX8P_S4nt2",
   "metadata": {
    "id": "bHmX8P_S4nt2"
   },
   "source": [
    "# Logistic Chain"
   ]
  },
  {
   "cell_type": "markdown",
   "id": "iYG8WbUE7pby",
   "metadata": {
    "id": "iYG8WbUE7pby"
   },
   "source": []
  },
  {
   "cell_type": "code",
   "execution_count": 18,
   "id": "b39e8c1b",
   "metadata": {},
   "outputs": [],
   "source": [
    "from sklearn.linear_model import LogisticRegression"
   ]
  },
  {
   "cell_type": "code",
   "execution_count": 19,
   "id": "V1eBpUPs_YKy",
   "metadata": {
    "colab": {
     "base_uri": "https://localhost:8080/"
    },
    "id": "V1eBpUPs_YKy",
    "outputId": "d8fff22c-4a55-43ca-b255-2432e70977dd"
   },
   "outputs": [
    {
     "name": "stdout",
     "output_type": "stream",
     "text": [
      "have already deal with  1 models\n",
      "have already deal with  2 models\n",
      "have already deal with  3 models\n",
      "have already deal with  4 models\n",
      "have already deal with  5 models\n",
      "have already deal with  6 models\n",
      "have already deal with  7 models\n",
      "have already deal with  8 models\n",
      "have already deal with  9 models\n",
      "have already deal with  10 models\n",
      "have already deal with  11 models\n",
      "have already deal with  12 models\n",
      "have already deal with  13 models\n",
      "have already deal with  14 models\n",
      "have already deal with  15 models\n",
      "have already deal with  16 models\n",
      "have already deal with  17 models\n",
      "have already deal with  18 models\n",
      "have already deal with  19 models\n",
      "have already deal with  20 models\n",
      "have already deal with  21 models\n",
      "have already deal with  22 models\n",
      "have already deal with  23 models\n",
      "have already deal with  27 models\n",
      "have already deal with  28 models\n",
      "have already deal with  29 models\n",
      "have already deal with  30 models\n"
     ]
    }
   ],
   "source": [
    "y_pred_list = list()\n",
    "y_pred_prob_list = list()\n",
    "\n",
    "for i in range(train_y_onehot.shape[0]):\n",
    "  x_train = train_x_onehot\n",
    "  x_test = test_x_onehot\n",
    "  y_train = train_y_onehot[i]\n",
    "  model = LogisticRegression()\n",
    "  model.fit(x_train, y_train)\n",
    "  y_pred = model.predict(x_test)\n",
    "  y_pred_prob = model.predict_proba(x_test)\n",
    "  y_pred_list.append(y_pred)\n",
    "  y_pred_prob_list.append(y_pred_prob)\n",
    "  print(\"have already deal with \", i+1 , \"models\")"
   ]
  },
  {
   "cell_type": "code",
   "execution_count": 34,
   "id": "lCX9ejfwDej2",
   "metadata": {
    "id": "lCX9ejfwDej2"
   },
   "outputs": [],
   "source": [
    "y_pred_array = np.array(y_pred_list)\n",
    "y_pred_array = y_pred_array.T"
   ]
  },
  {
   "cell_type": "code",
   "execution_count": 35,
   "id": "Yb1wItYUD9_4",
   "metadata": {
    "id": "Yb1wItYUD9_4"
   },
   "outputs": [],
   "source": [
    "y_pred_prob_array = np.array(y_pred_prob_list)\n",
    "y_pred_prob_array = y_pred_prob_array.T"
   ]
  },
  {
   "cell_type": "code",
   "execution_count": 36,
   "id": "e36ebcdf",
   "metadata": {},
   "outputs": [],
   "source": [
    "from sklearn.preprocessing import MultiLabelBinarizer\n",
    "MLB = MultiLabelBinarizer()\n",
    "MLB.fit(df['reduced_tags'])  # array([[1, 1, 0...], [0, 1, 0...] ...])\n",
    "\n",
    "labels = MLB.transform(test['reduced_tags'])"
   ]
  },
  {
   "cell_type": "code",
   "execution_count": 37,
   "id": "9b9c5b33",
   "metadata": {},
   "outputs": [],
   "source": [
    "# Function: 計算 Accuracy, Precision, Recall, Top-k\n",
    "\n",
    "def _ACCscore(y_true, pred):\n",
    "    accuracy_l = [ans.all() for ans in (pred == y_true)]\n",
    "    accuracy = np.array(accuracy_l).mean()\n",
    "    return accuracy\n",
    "\n",
    "\n",
    "def _PRscore(y_true, pred):\n",
    "    hit_matrix = np.zeros_like(pred)\n",
    "    hit_matrix[np.where((pred == y_true) & (y_true > 0))] = 1\n",
    "    tp = hit_matrix.sum(axis=1)\n",
    "    pred_sum = pred.sum(axis=1)\n",
    "    true_sum = y_true.sum(axis=1)\n",
    "    precision_l = []\n",
    "    recall_l = []\n",
    "    for ix in range(tp.shape[0]):\n",
    "        precision_score = (1.0 if true_sum[ix] == 0 else 0.0) if pred_sum[ix] == 0 else tp[ix]/pred_sum[ix]\n",
    "        recall_score = (1.0 if pred_sum[ix] == 0 else 0.0) if true_sum[ix] == 0 else tp[ix]/true_sum[ix]\n",
    "        precision_l.append(precision_score)\n",
    "        recall_l.append(recall_score)\n",
    "    precision = np.array(precision_l).mean()\n",
    "    recall = np.array(recall_l).mean()\n",
    "    return precision, recall\n",
    "\n",
    "\n",
    "def _TopKscore(y_true, pred, output, k):\n",
    "    topk_class = np.argsort(output, axis=1)[:,-k:]\n",
    "    topk_pred = torch.zeros_like(pred)\n",
    "    for i in range(pred.shape[0]):\n",
    "        if pred[i, :].sum() > 0:\n",
    "            topk_pred[i, topk_class[i]] = 1\n",
    "    topk_precision, topk_recall = _PRscore(y_true, topk_pred)\n",
    "    return topk_precision, topk_recall\n",
    "\n",
    "# Function: 一次同時計算所有評估指標\n",
    "\n",
    "def score(y_true, pred, output, k=5):\n",
    "    accuracy = _ACCscore(y_true, pred)\n",
    "    precision, recall = _PRscore(y_true, pred)\n",
    "    _, topk_recall = _TopKscore(y_true, pred, output, k)\n",
    "    return accuracy, precision, recall, topk_recall"
   ]
  },
  {
   "cell_type": "code",
   "execution_count": 38,
   "id": "8af05456",
   "metadata": {},
   "outputs": [],
   "source": [
    "import torch"
   ]
  },
  {
   "cell_type": "markdown",
   "id": "e6920523",
   "metadata": {},
   "source": [
    "## 原本模型預測結果"
   ]
  },
  {
   "cell_type": "code",
   "execution_count": 39,
   "id": "00b1d406",
   "metadata": {},
   "outputs": [
    {
     "name": "stderr",
     "output_type": "stream",
     "text": [
      "/home/adam/lalami/lalami_env/lib/python3.7/site-packages/ipykernel_launcher.py:6: UserWarning: Creating a tensor from a list of numpy.ndarrays is extremely slow. Please consider converting the list to a single numpy.ndarray with numpy.array() before converting to a tensor. (Triggered internally at  ../torch/csrc/utils/tensor_new.cpp:201.)\n",
      "  \n"
     ]
    },
    {
     "name": "stdout",
     "output_type": "stream",
     "text": [
      "0.09409492273730684\n",
      "0.18837380452003438\n",
      "0.16998713\n"
     ]
    }
   ],
   "source": [
    "A_score_list = []\n",
    "P_score_list = []\n",
    "R_score_list = []\n",
    "\n",
    "for i in range(len(labels)):\n",
    "    A_score_list.append(_ACCscore(torch.tensor([labels[i]]), torch.tensor([y_pred_array[i]])))\n",
    "    precision, recall = _PRscore(torch.tensor([labels[i]]), torch.tensor([y_pred_array[i]]))\n",
    "    P_score_list.append(precision)\n",
    "    R_score_list.append(recall)\n",
    "print(np.array(A_score_list).mean())\n",
    "print(np.array(P_score_list).mean())\n",
    "print(np.array(R_score_list).mean())"
   ]
  },
  {
   "cell_type": "code",
   "execution_count": 40,
   "id": "66143bc0",
   "metadata": {},
   "outputs": [],
   "source": [
    "import torch.nn as nn\n",
    "sigmoid = nn.Sigmoid()"
   ]
  },
  {
   "cell_type": "markdown",
   "id": "fabbb1a9",
   "metadata": {},
   "source": [
    "## 強迫至少有一個答案"
   ]
  },
  {
   "cell_type": "code",
   "execution_count": 41,
   "id": "1875b207",
   "metadata": {},
   "outputs": [],
   "source": [
    "new_predict_list = []\n",
    "for i in range(len(y_pred_prob_array[0])):\n",
    "    if(sum(y_pred_array[i])) > 0:\n",
    "        new_predict = y_pred_array[i]\n",
    "    else:\n",
    "        new_predict = np.zeros_like(torch.tensor(y_pred_array[0]))\n",
    "        idx = torch.argmax(sigmoid(torch.tensor(y_pred_prob_array[1][i]))).item() \n",
    "        new_predict[idx] = 1\n",
    "        \n",
    "    new_predict_list.append(new_predict)\n",
    "new_predict_tensor = torch.tensor(new_predict_list)"
   ]
  },
  {
   "cell_type": "code",
   "execution_count": 42,
   "id": "cdb15460",
   "metadata": {},
   "outputs": [
    {
     "data": {
      "text/plain": [
       "tensor([[0, 0, 0,  ..., 0, 1, 0],\n",
       "        [0, 0, 0,  ..., 0, 0, 0],\n",
       "        [0, 0, 0,  ..., 0, 0, 0],\n",
       "        ...,\n",
       "        [0, 0, 0,  ..., 0, 0, 0],\n",
       "        [0, 0, 1,  ..., 0, 0, 0],\n",
       "        [0, 0, 0,  ..., 0, 0, 0]])"
      ]
     },
     "execution_count": 42,
     "metadata": {},
     "output_type": "execute_result"
    }
   ],
   "source": [
    "new_predict_tensor"
   ]
  },
  {
   "cell_type": "code",
   "execution_count": 43,
   "id": "9b979252",
   "metadata": {},
   "outputs": [
    {
     "name": "stdout",
     "output_type": "stream",
     "text": [
      "0.31456953642384106\n",
      "0.58600074\n",
      "0.46779802\n"
     ]
    }
   ],
   "source": [
    "A_score_list = []\n",
    "P_score_list = []\n",
    "R_score_list = []\n",
    "\n",
    "for i in range(len(labels)):\n",
    "    A_score_list.append(_ACCscore(torch.tensor([labels[i]]), new_predict_tensor[i]))\n",
    "    precision, recall = _PRscore(torch.tensor([labels[i]]), torch.tensor([new_predict_list[i]]))\n",
    "    P_score_list.append(precision)\n",
    "    R_score_list.append(recall)\n",
    "print(np.array(A_score_list).mean())\n",
    "print(np.array(P_score_list).mean())\n",
    "print(np.array(R_score_list).mean())"
   ]
  },
  {
   "cell_type": "markdown",
   "id": "278c6c24",
   "metadata": {},
   "source": [
    "# DT Chain"
   ]
  },
  {
   "cell_type": "code",
   "execution_count": null,
   "id": "4da13c02",
   "metadata": {},
   "outputs": [],
   "source": [
    "# 機器跑不動"
   ]
  },
  {
   "cell_type": "code",
   "execution_count": 16,
   "id": "42b6150b",
   "metadata": {},
   "outputs": [],
   "source": [
    "from sklearn import tree"
   ]
  },
  {
   "cell_type": "code",
   "execution_count": null,
   "id": "f6c89e80",
   "metadata": {},
   "outputs": [],
   "source": [
    "y_pred_list = list()\n",
    "y_pred_prob_list = list()\n",
    "\n",
    "for i in range(train_y_onehot.shape[0]):\n",
    "  x_train = train_x_onehot\n",
    "  x_test = test_x_onehot\n",
    "  y_train = train_y_onehot[i]\n",
    "  model = tree.DecisionTreeClassifier()\n",
    "  model.fit(x_train, y_train)\n",
    "  y_pred = model.predict(x_test)\n",
    "  y_pred_prob = model.predict_proba(x_test)\n",
    "  y_pred_list.append(y_pred)\n",
    "  y_pred_prob_list.append(y_pred_prob)\n",
    "  print(\"have already deal with \", i+1 , \"models\")"
   ]
  },
  {
   "cell_type": "code",
   "execution_count": null,
   "id": "c6ec2ae1",
   "metadata": {},
   "outputs": [],
   "source": []
  },
  {
   "cell_type": "code",
   "execution_count": null,
   "id": "7acfbd83",
   "metadata": {},
   "outputs": [],
   "source": []
  },
  {
   "cell_type": "code",
   "execution_count": null,
   "id": "2171e7d9",
   "metadata": {
    "id": "2171e7d9"
   },
   "outputs": [],
   "source": []
  }
 ],
 "metadata": {
  "accelerator": "GPU",
  "colab": {
   "collapsed_sections": [
    "fa17dd30",
    "d210fd69",
    "a4b0bc2a",
    "a62dc5cb",
    "c98e86c7",
    "ae5bc836",
    "74dffadf"
   ],
   "name": "final_project_google.ipynb",
   "provenance": []
  },
  "kernelspec": {
   "display_name": "Python 3 (ipykernel)",
   "language": "python",
   "name": "python3"
  },
  "language_info": {
   "codemirror_mode": {
    "name": "ipython",
    "version": 3
   },
   "file_extension": ".py",
   "mimetype": "text/x-python",
   "name": "python",
   "nbconvert_exporter": "python",
   "pygments_lexer": "ipython3",
   "version": "3.7.5"
  },
  "toc": {
   "base_numbering": 1,
   "nav_menu": {},
   "number_sections": true,
   "sideBar": true,
   "skip_h1_title": false,
   "title_cell": "Table of Contents",
   "title_sidebar": "Contents",
   "toc_cell": false,
   "toc_position": {
    "height": "calc(100% - 180px)",
    "left": "10px",
    "top": "150px",
    "width": "288px"
   },
   "toc_section_display": true,
   "toc_window_display": true
  }
 },
 "nbformat": 4,
 "nbformat_minor": 5
}
